{
 "cells": [
  {
   "cell_type": "code",
   "execution_count": 53,
   "metadata": {
    "collapsed": false
   },
   "outputs": [],
   "source": [
    "import sys\n",
    "import codecs\n",
    "import numpy as np\n",
    "import matplotlib.pyplot as plt\n",
    "from sklearn.manifold import TSNE\n",
    "import mpld3\n",
    "import pandas as pd\n",
    "\n",
    "%matplotlib inline\n",
    "\n",
    "ds_name = 'kaggle'\n"
   ]
  },
  {
   "cell_type": "code",
   "execution_count": 54,
   "metadata": {
    "collapsed": true
   },
   "outputs": [],
   "source": [
    "def load_embeddings(file_name):\n",
    "    with open(file_name, 'r') as f_in:\n",
    "        print(\"Skipping first line\")\n",
    "        f_in.readline()\n",
    "        vocabulary, wv = zip(*[line.strip().split(' ', 1) for line in f_in])\n",
    "    wv = np.loadtxt(wv)\n",
    "    return wv, vocabulary\n"
   ]
  },
  {
   "cell_type": "code",
   "execution_count": 55,
   "metadata": {
    "collapsed": true
   },
   "outputs": [],
   "source": [
    "colors = {\n",
    "    'Positive': 'g', \n",
    "    'Negative': 'r',\n",
    "}\n",
    "\n",
    "film_labels = ['Negative', 'Positive']"
   ]
  },
  {
   "cell_type": "code",
   "execution_count": 56,
   "metadata": {
    "collapsed": false
   },
   "outputs": [
    {
     "name": "stdout",
     "output_type": "stream",
     "text": [
      "Skipping first line\n",
      "Loaded 3048 words\n"
     ]
    }
   ],
   "source": [
    "embeddings_file = '../output/{}_w2v_word_vectors.vec'.format(ds_name)\n",
    "wv, vocabulary = load_embeddings(embeddings_file)\n",
    "vocabulary = np.array(vocabulary)\n",
    "vocabulary_dict = {i: idx for idx, i in enumerate(vocabulary)}\n",
    "print(\"Loaded {} words\".format(len(vocabulary)))"
   ]
  },
  {
   "cell_type": "code",
   "execution_count": 57,
   "metadata": {
    "collapsed": false
   },
   "outputs": [
    {
     "name": "stdout",
     "output_type": "stream",
     "text": [
      "Loaded 1411 tweets\n"
     ]
    }
   ],
   "source": [
    "tweets_w2v_file = '../output/{}_w2v_tweets.txt'.format(ds_name)\n",
    "with open(tweets_w2v_file) as f:\n",
    "    lines_w2v = [i.split(',') for i in f.readlines()]\n",
    "    labels_w2v = [int(i[0].strip().split('_')[-1]) for i in lines_w2v]\n",
    "    tweets_w2v = [i[1].strip() for i in lines_w2v]\n",
    "    \n",
    "tweets_w2v = np.array(tweets_w2v)\n",
    "\n",
    "print(\"Loaded {} tweets\".format(len(tweets_w2v)))"
   ]
  },
  {
   "cell_type": "code",
   "execution_count": 58,
   "metadata": {
    "collapsed": false
   },
   "outputs": [
    {
     "name": "stdout",
     "output_type": "stream",
     "text": [
      "Selected 1396 tweets\n"
     ]
    }
   ],
   "source": [
    "m, tweets_w2v_avg, point_labels, id_label = [], [], [], []\n",
    "\n",
    "for idx, i in enumerate(tweets_w2v):\n",
    "    if idx in {68, 155, 186, 340, 406, 641, 872, 914, 1169, 1187, 1196, 1247, 1250, 1347, 1363}:\n",
    "        continue\n",
    "    w = set(i.split())\n",
    "    vecs = [wv[vocabulary_dict[word]] for word in w if word in vocabulary_dict]\n",
    "    if not len(vecs):\n",
    "        continue\n",
    "\n",
    "    m.append(idx)\n",
    "    vecs = np.array(vecs)\n",
    "    tweets_w2v_avg.append(np.mean(vecs, axis=0))\n",
    "    point_labels.append(film_labels[labels_w2v[idx]])\n",
    "\n",
    "\n",
    "tweets_w2v = tweets_w2v[m]\n",
    "tweets_w2v_avg = np.array(tweets_w2v_avg)\n",
    "print(\"Selected {} tweets\".format(len(tweets_w2v_avg)))"
   ]
  },
  {
   "cell_type": "code",
   "execution_count": 59,
   "metadata": {
    "collapsed": false
   },
   "outputs": [],
   "source": [
    "tsne = TSNE(n_components=2, random_state=0)\n",
    "np.set_printoptions(suppress=True)\n",
    "Y = tsne.fit_transform(tweets_w2v_avg)"
   ]
  },
  {
   "cell_type": "code",
   "execution_count": 60,
   "metadata": {
    "collapsed": false
   },
   "outputs": [
    {
     "data": {
      "text/plain": [
       "<matplotlib.collections.PathCollection at 0x1104252d0>"
      ]
     },
     "execution_count": 60,
     "metadata": {},
     "output_type": "execute_result"
    },
    {
     "data": {
      "image/png": "[encoded data removed]",
      "text/plain": [
       "<matplotlib.figure.Figure at 0x10dabb850>"
      ]
     },
     "metadata": {},
     "output_type": "display_data"
    }
   ],
   "source": [
    "plt.scatter(Y[:, 0], Y[:, 1])"
   ]
  },
  {
   "cell_type": "code",
   "execution_count": 49,
   "metadata": {
    "collapsed": false
   },
   "outputs": [],
   "source": [
    "# plt.scatter(Y[:, 0], Y[:, 1], c=c)\n",
    "# for label, x, y in zip(tweets_w2v, Y[:, 0], Y[:, 1]):\n",
    "#     plt.annotate(label, xy=(x, y), xytext=(0, 0), textcoords='offset points')"
   ]
  },
  {
   "cell_type": "code",
   "execution_count": 50,
   "metadata": {
    "collapsed": false
   },
   "outputs": [],
   "source": [
    "#define custom toolbar location\n",
    "class TopToolbar(mpld3.plugins.PluginBase):\n",
    "    \"\"\"Plugin for moving toolbar to top of figure\"\"\"\n",
    "\n",
    "    JAVASCRIPT = \"\"\"\n",
    "    mpld3.register_plugin(\"toptoolbar\", TopToolbar);\n",
    "    TopToolbar.prototype = Object.create(mpld3.Plugin.prototype);\n",
    "    TopToolbar.prototype.constructor = TopToolbar;\n",
    "    function TopToolbar(fig, props){\n",
    "        mpld3.Plugin.call(this, fig, props);\n",
    "    };\n",
    "\n",
    "    TopToolbar.prototype.draw = function(){\n",
    "      // the toolbar svg doesn't exist\n",
    "      // yet, so first draw it\n",
    "      this.fig.toolbar.draw();\n",
    "\n",
    "      // then change the y position to be\n",
    "      // at the top of the figure\n",
    "      this.fig.toolbar.toolbar.attr(\"x\", 150);\n",
    "      this.fig.toolbar.toolbar.attr(\"y\", 400);\n",
    "\n",
    "      // then remove the draw function,\n",
    "      // so that it is not called again\n",
    "      this.fig.toolbar.draw = function() {}\n",
    "    }\n",
    "    \"\"\"\n",
    "    def __init__(self):\n",
    "        self.dict_ = {\"type\": \"toptoolbar\"}\n"
   ]
  },
  {
   "cell_type": "code",
   "execution_count": 51,
   "metadata": {
    "collapsed": false
   },
   "outputs": [],
   "source": [
    "#create data frame that has the result of the MDS plus the cluster numbers and titles\n",
    "df = pd.DataFrame(dict(x=Y[:, 0], y=Y[:, 1], label=point_labels[:len(Y)], title=tweets_w2v[:len(Y)])) "
   ]
  },
  {
   "cell_type": "code",
   "execution_count": 52,
   "metadata": {
    "collapsed": false,
    "scrolled": false
   },
   "outputs": [
    {
     "ename": "KeyError",
     "evalue": "'1000: Positive'",
     "output_type": "error",
     "traceback": [
      "\u001b[0;31m---------------------------------------------------------------------------\u001b[0m",
      "\u001b[0;31mKeyError\u001b[0m                                  Traceback (most recent call last)",
      "\u001b[0;32m<ipython-input-52-7c2ce8448b0d>\u001b[0m in \u001b[0;36m<module>\u001b[0;34m()\u001b[0m\n\u001b[1;32m     29\u001b[0m \u001b[0;32mfor\u001b[0m \u001b[0mname\u001b[0m\u001b[0;34m,\u001b[0m \u001b[0mgroup\u001b[0m \u001b[0;32min\u001b[0m \u001b[0mgroups\u001b[0m\u001b[0;34m:\u001b[0m\u001b[0;34m\u001b[0m\u001b[0m\n\u001b[1;32m     30\u001b[0m     points = ax.plot(group.x, group.y, marker='o', linestyle='', ms=10, \n\u001b[0;32m---> 31\u001b[0;31m                     mec='none', alpha=.5, color=colors[name], label=name)\n\u001b[0m\u001b[1;32m     32\u001b[0m     \u001b[0max\u001b[0m\u001b[0;34m.\u001b[0m\u001b[0mset_aspect\u001b[0m\u001b[0;34m(\u001b[0m\u001b[0;34m'auto'\u001b[0m\u001b[0;34m)\u001b[0m\u001b[0;34m\u001b[0m\u001b[0m\n\u001b[1;32m     33\u001b[0m     \u001b[0mlabels\u001b[0m \u001b[0;34m=\u001b[0m \u001b[0;34m[\u001b[0m\u001b[0mi\u001b[0m \u001b[0;32mfor\u001b[0m \u001b[0mi\u001b[0m \u001b[0;32min\u001b[0m \u001b[0mgroup\u001b[0m\u001b[0;34m.\u001b[0m\u001b[0mtitle\u001b[0m\u001b[0;34m]\u001b[0m\u001b[0;34m\u001b[0m\u001b[0m\n",
      "\u001b[0;31mKeyError\u001b[0m: '1000: Positive'"
     ]
    },
    {
     "data": {
      "image/png": "[encoded data removed]",
      "text/plain": [
       "<matplotlib.figure.Figure at 0x110feb650>"
      ]
     },
     "metadata": {},
     "output_type": "display_data"
    }
   ],
   "source": [
    "#group by cluster\n",
    "groups = df.groupby('label')\n",
    "\n",
    "# plt.scatter(Y[:, 0], Y[:, 1], c=c)\n",
    "# for label, x, y in zip(vocabulary, Y[:, 0], Y[:, 1]):\n",
    "#     plt.annotate(label, xy=(x, y), xytext=(0, 0), textcoords='offset points')\n",
    "\n",
    "#define custom css to format the font and to remove the axis labeling\n",
    "css = \"\"\"\n",
    "text.mpld3-text, div.mpld3-tooltip {\n",
    "  font-family:Arial, Helvetica, sans-serif;\n",
    "}\n",
    "\n",
    "g.mpld3-xaxis, g.mpld3-yaxis {\n",
    "display: none;\n",
    "}\n",
    "\n",
    "svg.mpld3-figure {\n",
    "/* margin-left: -200px;  */\n",
    "}\n",
    "\"\"\"\n",
    "\n",
    "# Plot \n",
    "fig, ax = plt.subplots(figsize=(15, 15)) #set plot size\n",
    "ax.margins(0.03) # Optional, just adds 5% padding to the autoscaling\n",
    "\n",
    "#iterate through groups to layer the plot\n",
    "#note that I use the cluster_name and cluster_color dicts with the 'name' lookup to return the appropriate color/label\n",
    "for name, group in groups:\n",
    "    points = ax.plot(group.x, group.y, marker='o', linestyle='', ms=10, \n",
    "                    mec='none', alpha=.5, color=colors[name], label=name)\n",
    "    ax.set_aspect('auto')\n",
    "    labels = [i for i in group.title]\n",
    "    \n",
    "    #set tooltip using points, labels and the already defined 'css'\n",
    "    tooltip = mpld3.plugins.PointHTMLTooltip(points[0], labels,\n",
    "                                       voffset=10, hoffset=10, css=css)\n",
    "    #connect tooltip to fig\n",
    "    mpld3.plugins.connect(fig, tooltip, TopToolbar())    \n",
    "    \n",
    "    #set tick marks as blank\n",
    "    ax.axes.get_xaxis().set_ticks([])\n",
    "    ax.axes.get_yaxis().set_ticks([])\n",
    "    \n",
    "    #set axis as blank\n",
    "    ax.axes.get_xaxis().set_visible(False)\n",
    "    ax.axes.get_yaxis().set_visible(False)\n",
    "\n",
    "    \n",
    "ax.legend(loc='upper left', numpoints=1)\n",
    "\n",
    "# uncomment the below to export to html\n",
    "with open('./movies.html', 'w') as f:\n",
    "    html = mpld3.fig_to_html(fig)\n",
    "    f.write(\"\"\"\n",
    "        <style>\n",
    "            body {padding:100px;}\n",
    "        </style>\n",
    "    \"\"\")\n",
    "    f.write(html)\n",
    "    \n",
    "mpld3.display() #show the plot"
   ]
  },
  {
   "cell_type": "code",
   "execution_count": null,
   "metadata": {
    "collapsed": true
   },
   "outputs": [],
   "source": []
  }
 ],
 "metadata": {
  "kernelspec": {
   "display_name": "Python 2",
   "language": "python",
   "name": "python2"
  },
  "language_info": {
   "codemirror_mode": {
    "name": "ipython",
    "version": 2
   },
   "file_extension": ".py",
   "mimetype": "text/x-python",
   "name": "python",
   "nbconvert_exporter": "python",
   "pygments_lexer": "ipython2",
   "version": "2.7.10"
  }
 },
 "nbformat": 4,
 "nbformat_minor": 0
}
